{
 "cells": [
  {
   "cell_type": "markdown",
   "id": "590b4cce",
   "metadata": {},
   "source": [
    "#  **Import The Useable Libraries:**"
   ]
  },
  {
   "cell_type": "code",
   "execution_count": 1,
   "id": "deac0c07",
   "metadata": {},
   "outputs": [],
   "source": [
    "import numpy as np                             \n",
    "import pandas as pd               \n",
    "import string    \n",
    "import random \n",
    "from time import time \n",
    "from Crypto.Cipher import AES\n",
    "from Crypto.Util.Padding import pad\n",
    "from Crypto.Random import get_random_bytes\n",
    "import base64\n",
    "from Crypto.Util.Padding import unpad\n",
    "import matplotlib.pyplot as plt \n",
    "%matplotlib inline \n",
    "import warnings\n",
    "from decimal import Decimal, getcontext\n",
    "import scienceplots"
   ]
  },
  {
   "cell_type": "markdown",
   "id": "38f4c0ae",
   "metadata": {},
   "source": [
    "# **Define The Global Notebook Settings:** "
   ]
  },
  {
   "cell_type": "code",
   "execution_count": 2,
   "id": "1867591e",
   "metadata": {},
   "outputs": [],
   "source": [
    "warnings.filterwarnings(\"ignore\") \n",
    "pd.set_option(\"display.max_rows\" , 50) \n",
    "pd.set_option(\"display.max_columns\" , 500) \n",
    "plt.rcParams.update({'font.size': 12})\n",
    "plt.style.use(['science', 'no-latex'])\n",
    "plt.rcParams['font.family'] = 'Times New Roman'"
   ]
  },
  {
   "cell_type": "markdown",
   "id": "5c4dc009",
   "metadata": {},
   "source": [
    "# **Define The Global Variables** "
   ]
  },
  {
   "cell_type": "code",
   "execution_count": 3,
   "id": "7361270c",
   "metadata": {},
   "outputs": [],
   "source": [
    "text= None\n",
    "textSize= 5000"
   ]
  },
  {
   "cell_type": "code",
   "execution_count": 4,
   "id": "0905f354",
   "metadata": {},
   "outputs": [],
   "source": [
    "degrees= list(range(2, 7 , 1))\n",
    "polynomials= []\n",
    "encryptionTime= [ ]\n",
    "decryptionTime= [ ]\n",
    "totalTime= [ ] "
   ]
  },
  {
   "cell_type": "markdown",
   "id": "6c6f5392",
   "metadata": {},
   "source": [
    "# **Define The Global Functions:** "
   ]
  },
  {
   "cell_type": "code",
   "execution_count": 5,
   "id": "cb435ccc",
   "metadata": {},
   "outputs": [],
   "source": [
    "def get_random_8chars(chars_length , n_sambles): \n",
    "    random_chars= [ ] \n",
    "    for i in range(0 , n_sambles , 1): \n",
    "        letters= string.ascii_letters  \n",
    "        random_chars.append(\"\".join(random.choice(letters) for _ in range(chars_length)))\n",
    "    return \"\".join(random_chars)  "
   ]
  },
  {
   "cell_type": "code",
   "execution_count": 6,
   "id": "a889b2ad",
   "metadata": {},
   "outputs": [],
   "source": [
    "class BiNew(object):\n",
    "    def __init__(self, text, x, y):\n",
    "        if type(text) != str or len(x) != len(y):\n",
    "            raise ValueError(\"Invalid parameters passed\")\n",
    "        self.text = text\n",
    "        self.len_text = len(text)\n",
    "        self.x = [Decimal(i) for i in x]\n",
    "        self.y = [Decimal(i) for i in y]\n",
    "        self.coefs = None\n",
    "        self.maximium_8utf_chars = Decimal(597351581456640298090110)    \n",
    "        self.minimum_8utf_chars = Decimal(151708338147718170943520)\n",
    "        self.len_x = len(x)\n",
    "    def set_text(self, text):\n",
    "        if type(text) != str:\n",
    "            raise ValueError(\"Invalid text type passed\")\n",
    "        self.text = text\n",
    "\n",
    "    def set_x_y(self, x, y):\n",
    "        if len(x) != len(y):\n",
    "            raise ValueError(\"Invalid x, y points size passed\")\n",
    "        self.x = [Decimal(i) for i in x]\n",
    "        self.y = [Decimal(i) for i in y]\n",
    "        self.len_x = len(x)\n",
    "        self.coefs = None\n",
    "\n",
    "    def encode_and_get_int_values(self, chunk):\n",
    "        byte_representation = chunk.encode('utf-8')\n",
    "        integer_representation = int.from_bytes(\n",
    "            byte_representation, byteorder='big')\n",
    "        return integer_representation\n",
    "\n",
    "    def get_normalized_value(self, integer_value):\n",
    "        decimal_value = Decimal(integer_value)\n",
    "        normalized_value = (decimal_value - self.minimum_8utf_chars) / \\\n",
    "            (self.maximium_8utf_chars - self.minimum_8utf_chars)\n",
    "        return normalized_value\n",
    "\n",
    "    def get_inverse_normalized_value(self, normalized_value):\n",
    "        integer_value = (normalized_value *\n",
    "                         (self.maximium_8utf_chars - self.minimum_8utf_chars)) + self.minimum_8utf_chars\n",
    "        return integer_value\n",
    "\n",
    "    def get_normalized_values(self):\n",
    "        normalized_values = []\n",
    "        chunks = self.len_text // 10\n",
    "        beg, end = 0, 0\n",
    "        if chunks:\n",
    "            end = 10\n",
    "            for i in range(0, chunks, 1):\n",
    "                chunk = self.text[beg: end]\n",
    "                normalized_values.append(\n",
    "                    self.get_normalized_value(self.encode_and_get_int_values(chunk)))\n",
    "                beg = end\n",
    "                end = beg + 10\n",
    "        if (self.len_text / 10) % 1 != 0:     \n",
    "            chunk = self.text[end:]\n",
    "            normalized_values.append( \n",
    "                self.get_normalized_value(self.encode_and_get_int_values(chunk)))\n",
    "        return normalized_values     \n",
    "\n",
    "    def get_interger_values(self, normalized_values):\n",
    "        interger_values = []\n",
    "        for normalized_value in normalized_values:\n",
    "            interger_values.append(\n",
    "                self.get_inverse_normalized_value(normalized_value))\n",
    "        return interger_values     \n",
    "\n",
    "    def decode_and_get_strings(self, int_values):\n",
    "        strings = []\n",
    "        for int_value in int_values:\n",
    "            int_value = np.ceil(int_value)\n",
    "            byte_representation = int_value.to_bytes(\n",
    "                (int_value.bit_length() + 7) // 8, byteorder='big')\n",
    "            text = byte_representation.decode('utf-8')\n",
    "            strings.append(text)\n",
    "        return \"\".join(strings)\n",
    "    def decode_and_get_string(self , int_value): \n",
    "        int_value = np.ceil(int_value)\n",
    "        byte_representation = int_value.to_bytes(\n",
    "            (int_value.bit_length() + 7) // 8, byteorder='big')\n",
    "        return(byte_representation.decode('utf-8'))         \n",
    "\n",
    "    def newton_forward_coefficients(self):\n",
    "        n = len(self.x)\n",
    "        coefficients = np.zeros(n, dtype=Decimal)\n",
    "        for i in range(n):\n",
    "            coefficients[i] = Decimal(self.y[i])\n",
    "        for j in range(1, n):\n",
    "            for i in range(n - 1, j - 1, -1):\n",
    "                coefficients[i] = (coefficients[i] - coefficients[i - 1]) / \\\n",
    "                  (self.x[i] - self.x[i - j])\n",
    "        self.coefs = coefficients \n",
    "    \n",
    "    def evaluate_interpolated_value(self, target , normalized_value= Decimal(0)):    \n",
    "        n = self.len_x\n",
    "        result = Decimal(self.coefs[-1]) \n",
    "        for i in range(n - 2, -1, -1):\n",
    "            result = Decimal(result) * \\\n",
    "                (Decimal(target) - Decimal(self.x[i])) + Decimal(self.coefs[i])\n",
    "        return result - normalized_value \n",
    "\n",
    "    def bisection_method(self, a, b, normalized_value, tol=Decimal(10 ** -38)):  \n",
    "        if self.evaluate_interpolated_value(a, normalized_value) * self.evaluate_interpolated_value(b, normalized_value) > 0:\n",
    "            raise ValueError(\"The function values at the endpoints must have different signs.\")\n",
    "        for i in range(40):\n",
    "            midpoint = (a + b) / Decimal(2)\n",
    "            if self.evaluate_interpolated_value(midpoint, normalized_value) == Decimal(0):\n",
    "                return midpoint\n",
    "            elif self.evaluate_interpolated_value(midpoint, normalized_value) * self.evaluate_interpolated_value(a, normalized_value) < 0:\n",
    "                b = midpoint\n",
    "            else:\n",
    "                a = midpoint \n",
    "        return midpoint  \n",
    "  \n",
    "    def find_roots_secant(self, x0, x1, normalized_value, tol=Decimal(10 ** -17), max_iter=16):\n",
    "        x_prev = Decimal(x0)\n",
    "        x_curr = Decimal(x1)\n",
    "        for i in range(max_iter):\n",
    "            fx_prev = self.evaluate_interpolated_value(x_prev, normalized_value)\n",
    "            fx_curr = self.evaluate_interpolated_value(x_curr, normalized_value)\n",
    "            if fx_curr - fx_prev == 0:\n",
    "                raise ValueError(\"Secant method cannot converge. Division by zero.\")\n",
    "            x_next = x_curr - fx_curr * (x_curr - x_prev) / (fx_curr - fx_prev)\n",
    "            x_prev = x_curr\n",
    "            x_curr = x_next\n",
    "            if abs(fx_curr) < tol:\n",
    "                return x_curr\n",
    "        return x_curr   \n",
    "    \n",
    "    def find_roots_false_position(self, a, b, normalized_value, tol=Decimal(10 ** -17), max_iter=21):\n",
    "        if self.evaluate_interpolated_value(a, normalized_value) * self.evaluate_interpolated_value(b, normalized_value) > 0:\n",
    "            raise ValueError(\"The function values at the endpoints must have different signs.\")\n",
    "        for i in range(max_iter):\n",
    "            fa = self.evaluate_interpolated_value(a, normalized_value)\n",
    "            fb = self.evaluate_interpolated_value(b, normalized_value)\n",
    "            if fa == Decimal(0):\n",
    "                return a\n",
    "            if fb == Decimal(0):\n",
    "                return b\n",
    "            x_next = (a * fb - b * fa) / (fb - fa)\n",
    "            fx_next = self.evaluate_interpolated_value(x_next, normalized_value)\n",
    "            if abs(fx_next) < tol:\n",
    "                return x_next\n",
    "            if fx_next * fa < 0:\n",
    "                b = x_next\n",
    "            else:\n",
    "                a = x_next\n",
    "        return (a + b) / Decimal(2)\n",
    " \n",
    "    def encryption(self):  \n",
    "        cipher_text = []\n",
    "        self.newton_forward_coefficients()  \n",
    "        normalized_values = self.get_normalized_values()\n",
    "        for normalized_value in normalized_values:\n",
    "            cipher_text.append(self.find_roots_secant(self.x[0], self.x[-1] , normalized_value)) # Secant      \n",
    "        return cipher_text   \n",
    "    def dencryption(self , cipher_text): \n",
    "        text= [ ] \n",
    "        for root in cipher_text: \n",
    "            norm= self.evaluate_interpolated_value(root)   \n",
    "            inverse= self.get_inverse_normalized_value(norm) \n",
    "            text.append(self.decode_and_get_string(Decimal(round(inverse))))  \n",
    "        return \"\".join(text)     "
   ]
  },
  {
   "cell_type": "markdown",
   "id": "cc7d705d",
   "metadata": {},
   "source": [
    "# Generate Random Polynomial: #"
   ]
  },
  {
   "cell_type": "code",
   "execution_count": 7,
   "id": "84f01a5e",
   "metadata": {},
   "outputs": [],
   "source": [
    "polynomials= [ ]\n",
    "for i in range(0, len(degrees), 1): \n",
    "    xpoints= [ ]\n",
    "    ypoints= [ ] \n",
    "    x= random.randint(1, 50) \n",
    "    y= random.randint(1, 50)  \n",
    "    xpoints.append(x)\n",
    "    ypoints.append(y)\n",
    "    for j in range(0, degrees[i], 1): \n",
    "        x+= 0.5\n",
    "        y+= 0.5\n",
    "        xpoints.append(x) \n",
    "        ypoints.append(y) \n",
    "    midY= int(len(ypoints) / 2) \n",
    "    ypoints[midY : ]= [-1 * k for k in ypoints[midY : ]]\n",
    "    polynomials.append((xpoints, ypoints)) "
   ]
  },
  {
   "cell_type": "code",
   "execution_count": 8,
   "id": "e99cc274",
   "metadata": {},
   "outputs": [
    {
     "name": "stdout",
     "output_type": "stream",
     "text": [
      "====================================\n",
      "X Points: [2, 2.5, 3.0]\n",
      "Y Points: [5, -5.5, -6.0]\n",
      "====================================\n",
      "====================================\n",
      "X Points: [2, 2.5, 3.0, 3.5]\n",
      "Y Points: [15, 15.5, -16.0, -16.5]\n",
      "====================================\n",
      "====================================\n",
      "X Points: [6, 6.5, 7.0, 7.5, 8.0]\n",
      "Y Points: [37, 37.5, -38.0, -38.5, -39.0]\n",
      "====================================\n",
      "====================================\n",
      "X Points: [39, 39.5, 40.0, 40.5, 41.0, 41.5]\n",
      "Y Points: [46, 46.5, 47.0, -47.5, -48.0, -48.5]\n",
      "====================================\n",
      "====================================\n",
      "X Points: [23, 23.5, 24.0, 24.5, 25.0, 25.5, 26.0]\n",
      "Y Points: [47, 47.5, 48.0, -48.5, -49.0, -49.5, -50.0]\n",
      "====================================\n"
     ]
    }
   ],
   "source": [
    "for i in range(0, len(polynomials), 1): \n",
    "    print(\"====================================\")\n",
    "    print(f\"X Points: {polynomials[i][0]}\")\n",
    "    print(f\"Y Points: {polynomials[i][1]}\")\n",
    "    print(\"====================================\")"
   ]
  },
  {
   "cell_type": "markdown",
   "id": "3f29167b",
   "metadata": {},
   "source": [
    "# Encryption Analysis: # "
   ]
  },
  {
   "cell_type": "code",
   "execution_count": 15,
   "id": "32c67ebe",
   "metadata": {},
   "outputs": [],
   "source": [
    "text= get_random_8chars(10 , textSize)"
   ]
  },
  {
   "cell_type": "code",
   "execution_count": 16,
   "id": "e9b54445",
   "metadata": {},
   "outputs": [
    {
     "name": "stdout",
     "output_type": "stream",
     "text": [
      "True\n",
      "True\n",
      "True\n",
      "True\n",
      "True\n"
     ]
    }
   ],
   "source": [
    "for i in range(0, len(polynomials), 1): \n",
    "    xpoints= polynomials[i][0]\n",
    "    ypoints= polynomials[i][1] \n",
    "    obj= BiNew(text , xpoints ,ypoints)  \n",
    "    \n",
    "    binew_en_beg= time() \n",
    "    ciper_text= obj.encryption()  \n",
    "    binew_en_end= time() \n",
    "    en_time= binew_en_end - binew_en_beg\n",
    "    encryptionTime.append(en_time) \n",
    "    \n",
    "    binew_den_beg= time() \n",
    "    text_dencryption= obj.dencryption(ciper_text)   \n",
    "    binew_den_end= time()  \n",
    "    den_time= binew_den_end - binew_den_beg\n",
    "    decryptionTime.append(den_time)  \n",
    "    \n",
    "    totalTime.append(en_time + den_time) \n",
    "    print(text_dencryption == text)  "
   ]
  },
  {
   "cell_type": "code",
   "execution_count": null,
   "id": "1ee728f5",
   "metadata": {},
   "outputs": [],
   "source": []
  },
  {
   "cell_type": "code",
   "execution_count": null,
   "id": "86cd980d",
   "metadata": {},
   "outputs": [],
   "source": [
    " "
   ]
  }
 ],
 "metadata": {
  "kernelspec": {
   "display_name": "Python 3 (ipykernel)",
   "language": "python",
   "name": "python3"
  },
  "language_info": {
   "codemirror_mode": {
    "name": "ipython",
    "version": 3
   },
   "file_extension": ".py",
   "mimetype": "text/x-python",
   "name": "python",
   "nbconvert_exporter": "python",
   "pygments_lexer": "ipython3",
   "version": "3.11.5"
  }
 },
 "nbformat": 4,
 "nbformat_minor": 5
}
