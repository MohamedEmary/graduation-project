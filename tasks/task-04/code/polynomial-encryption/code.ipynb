{
 "cells": [
  {
   "cell_type": "code",
   "execution_count": 261,
   "metadata": {},
   "outputs": [],
   "source": [
    "import random\n",
    "import pandas as pd\n",
    "import os"
   ]
  },
  {
   "cell_type": "code",
   "execution_count": 262,
   "metadata": {},
   "outputs": [],
   "source": [
    "def generate_random_text(bits=80):\n",
    "    # calculate the number of characters needed to represent 80 bits\n",
    "    chars = bits // 8\n",
    "    # generate a random string of alphanumeric characters\n",
    "    text = \"\".join(random.choice(string.ascii_letters + string.digits)\n",
    "                   for _ in range(chars))\n",
    "    # return the text\n",
    "    return text"
   ]
  },
  {
   "cell_type": "code",
   "execution_count": 263,
   "metadata": {},
   "outputs": [],
   "source": [
    "def convert_to_decimal_and_hexa(text):\n",
    "    # encode the text as a bytes object using utf-8\n",
    "    bytes = text.encode(\"utf-8\")\n",
    "    # convert the bytes object to an integer using int.from_bytes\n",
    "    decimal_num = int.from_bytes(bytes, \"big\")\n",
    "    hexa_num = hex(decimal_num)\n",
    "    # return the number\n",
    "    return decimal_num, hexa_num"
   ]
  },
  {
   "cell_type": "code",
   "execution_count": 264,
   "metadata": {},
   "outputs": [],
   "source": [
    "def convert_to_text(number):\n",
    "    # convert the number to a bytes object using int.to_bytes\n",
    "    bytes = number.to_bytes((number.bit_length() + 7) // 8, \"big\")\n",
    "    # decode the bytes object using utf-8\n",
    "    text = bytes.decode(\"utf-8\")\n",
    "    # return the text\n",
    "    return text"
   ]
  },
  {
   "cell_type": "code",
   "execution_count": 265,
   "metadata": {},
   "outputs": [
    {
     "name": "stdout",
     "output_type": "stream",
     "text": [
      "jd93egpN6c\n",
      "0x6a6439336567704e3663\n",
      "502419643341132262159971\n",
      "jd93egpN6c\n"
     ]
    }
   ],
   "source": [
    "import string\n",
    "\n",
    "# test the function\n",
    "random_text = generate_random_text()\n",
    "print(random_text)\n",
    "decimal_num, hexa_num = convert_to_decimal_and_hexa(random_text)\n",
    "print(hexa_num)\n",
    "print(decimal_num)\n",
    "string = convert_to_text(decimal_num)\n",
    "print(string)"
   ]
  },
  {
   "cell_type": "code",
   "execution_count": 266,
   "metadata": {},
   "outputs": [],
   "source": [
    "import string\n",
    "\n",
    "# Specify the file path\n",
    "file_path = 'output.csv'\n",
    "\n",
    "# Clear the file content first\n",
    "with open(file_path, \"w\") as file:\n",
    "    file.write(\"\")\n",
    "\n",
    "# generate 100 random texts\n",
    "for i in range(100):\n",
    "    random_text = generate_random_text()\n",
    "    # add each random text to a line in the file\n",
    "    with open(file_path, \"a\") as file:\n",
    "        file.write(random_text + \"\\n\")\n",
    "\n",
    "# remove the last newline character\n",
    "with open(file_path, \"rb+\") as file:\n",
    "    file.seek(-1, 2)\n",
    "    file.truncate()"
   ]
  },
  {
   "cell_type": "code",
   "execution_count": 267,
   "metadata": {},
   "outputs": [],
   "source": [
    "# Define the number of rows you want in your DataFrame\n",
    "num_rows = 1000\n",
    "\n",
    "# Generate random texts using your function\n",
    "texts = [generate_random_text() for _ in range(num_rows)]\n",
    "\n",
    "# Generate random odd degrees between 1 and 13 (inclusive)\n",
    "degrees = [random.randrange(1, 14, 2) for _ in range(num_rows)]\n",
    "\n",
    "# Create a DataFrame with columns \"text\" and \"degree\"\n",
    "df = pd.DataFrame({\"random_text\": texts, \"degree\": degrees})"
   ]
  },
  {
   "cell_type": "code",
   "execution_count": 268,
   "metadata": {},
   "outputs": [
    {
     "data": {
      "text/plain": [
       "degree\n",
       "5     154\n",
       "7     149\n",
       "13    144\n",
       "1     143\n",
       "3     142\n",
       "9     135\n",
       "11    133\n",
       "Name: count, dtype: int64"
      ]
     },
     "execution_count": 268,
     "metadata": {},
     "output_type": "execute_result"
    }
   ],
   "source": [
    "df['degree'].value_counts()"
   ]
  },
  {
   "cell_type": "code",
   "execution_count": 269,
   "metadata": {},
   "outputs": [],
   "source": [
    "def generate_data_points(degree):\n",
    "    \"\"\"\n",
    "    Generates a list of random (x, y) data points based on the given degree.\n",
    "    \"\"\"\n",
    "    data_points = []\n",
    "    for _ in range(degree + 1):\n",
    "        # Generate random x and y coordinates here.\n",
    "        x = random.random()\n",
    "        y = random.random()\n",
    "        data_points.append((x, y))\n",
    "    return data_points"
   ]
  },
  {
   "cell_type": "code",
   "execution_count": 270,
   "metadata": {},
   "outputs": [],
   "source": [
    "df[\"data_points\"] = df[\"degree\"].apply(generate_data_points)"
   ]
  },
  {
   "cell_type": "markdown",
   "metadata": {},
   "source": [
    "## Apply Lagrange to get the polynomial\n"
   ]
  },
  {
   "cell_type": "code",
   "execution_count": 271,
   "metadata": {},
   "outputs": [],
   "source": [
    "from scipy.interpolate import lagrange\n",
    "import numpy as np\n",
    "\n",
    "\n",
    "def interpolate(data_points):\n",
    "    \"\"\"\n",
    "    Returns a function that interpolates between the given data points.\n",
    "    \"\"\"\n",
    "    # Extract the x and y coordinates from the data points\n",
    "    x_coords, y_coords = zip(*data_points)\n",
    "    # Apply lagrange interpolation to the data points\n",
    "    polynomial = lagrange(x_coords, y_coords)\n",
    "    # Return the polynomial function coefficients as a list\n",
    "    return list(polynomial.coefficients)"
   ]
  },
  {
   "cell_type": "code",
   "execution_count": 272,
   "metadata": {},
   "outputs": [],
   "source": [
    "# Try interpolating the first row of data points\n",
    "x = interpolate(df[\"data_points\"].iloc[0])"
   ]
  },
  {
   "cell_type": "code",
   "execution_count": 273,
   "metadata": {},
   "outputs": [],
   "source": [
    "# Apply the interpolate function to the data points\n",
    "df[\"coeffs\"] = df[\"data_points\"].apply(interpolate)"
   ]
  },
  {
   "cell_type": "code",
   "execution_count": 274,
   "metadata": {},
   "outputs": [],
   "source": [
    "def nth_root(deg):\n",
    "    if 1 <= deg < 10:\n",
    "        return deg / 2\n",
    "    elif 10 <= deg < 15:\n",
    "        return deg / 3\n",
    "    else:\n",
    "        return deg"
   ]
  },
  {
   "cell_type": "code",
   "execution_count": 275,
   "metadata": {},
   "outputs": [],
   "source": [
    "df[\"nth_root\"] = df[\"degree\"].apply(nth_root)"
   ]
  },
  {
   "cell_type": "code",
   "execution_count": 276,
   "metadata": {},
   "outputs": [],
   "source": [
    "# Define a function to extract the constant term of a polynomial\n",
    "def constant_term(polynomial):\n",
    "    return polynomial[-1]\n",
    "\n",
    "# Define a function to calculate the nth_root of a number\n",
    "\n",
    "\n",
    "def nth_root(number, n):\n",
    "    return np.sign(number) * np.abs(number) ** (1 / n)\n",
    "\n",
    "\n",
    "# Create a new column called constant_nth_root by applying the functions to the polynomial and nth_root columns\n",
    "df[\"constant_nth_root\"] = df.apply(lambda row: nth_root(\n",
    "    constant_term(row[\"coeffs\"]), row[\"nth_root\"]), axis=1)"
   ]
  },
  {
   "cell_type": "code",
   "execution_count": 277,
   "metadata": {},
   "outputs": [],
   "source": [
    "# Import math library\n",
    "import math\n",
    "\n",
    "\n",
    "def bisection_initial(number):\n",
    "    return [-round(number), round(number)]\n",
    "\n",
    "\n",
    "def secant_initial(number):\n",
    "    return [math.floor(number), math.ceil(number)]\n",
    "\n",
    "\n",
    "def newton_initial(number):\n",
    "    return round(number)\n",
    "\n",
    "\n",
    "# Create a new column called bisection_initial by applying the function to the constant_nth_root column\n",
    "df[\"bisection_initial\"] = df[\"constant_nth_root\"].apply(bisection_initial)\n",
    "df[\"secant_initial\"] = df[\"constant_nth_root\"].apply(secant_initial)\n",
    "df[\"newton_initial\"] = df[\"constant_nth_root\"].apply(newton_initial)"
   ]
  },
  {
   "cell_type": "code",
   "execution_count": 278,
   "metadata": {},
   "outputs": [],
   "source": [
    "from scipy.optimize import bisect, newton\n",
    "\n",
    "\n",
    "def bisection_method(coeffs, a, b, tol=1e-6, maxiter=200):\n",
    "    # Convert the list of coefficients to a numpy polynomial\n",
    "    poly = np.poly1d(coeffs)\n",
    "    # Apply the bisection method using scipy's built-in function\n",
    "    root = bisect(poly, a, b, xtol=tol, maxiter=maxiter)\n",
    "    # Return the root as a float\n",
    "    return float(root)\n",
    "\n",
    "\n",
    "def newton_method(coeffs, x0, tol=1e-6, maxiter=200):\n",
    "    # Convert the list of coefficients to a numpy polynomial\n",
    "    poly = np.poly1d(coeffs)\n",
    "    # Apply the newton method using scipy's built-in function\n",
    "    root = newton(poly, x0, tol=tol, maxiter=maxiter)\n",
    "    # Return the root as a float\n",
    "    return float(root)\n",
    "\n",
    "\n",
    "def secant_method(coeffs, x0, x1, tol=1e-6, maxiter=200):\n",
    "    # Convert the list of coefficients to a numpy polynomial\n",
    "    poly = np.poly1d(coeffs)\n",
    "    # Apply the secant method using scipy's built-in function\n",
    "    root = newton(poly, x0, x1=x1, tol=tol, maxiter=maxiter)\n",
    "    # Return the root as a float\n",
    "    return float(root)"
   ]
  },
  {
   "cell_type": "code",
   "execution_count": 279,
   "metadata": {},
   "outputs": [],
   "source": [
    "from scipy.optimize import bisect, newton\n",
    "\n",
    "\n",
    "def bisection_method(coeffs, a, b, tol=1e-6, maxiter=200):\n",
    "    # Convert the list of coefficients to a numpy polynomial\n",
    "    poly = np.poly1d(coeffs)\n",
    "    # Apply the bisection method using scipy's built-in function\n",
    "    root = bisect(poly, a, b, xtol=tol, maxiter=maxiter)\n",
    "    # Return the root as a float\n",
    "    return float(root)\n",
    "\n",
    "\n",
    "def newton_method(coeffs, x0, tol=1e-6, maxiter=200):\n",
    "    # Convert the list of coefficients to a numpy polynomial\n",
    "    poly = np.poly1d(coeffs)\n",
    "    # Apply the newton method using scipy's built-in function\n",
    "    root = newton(poly, x0, tol=tol, maxiter=maxiter)\n",
    "    # Return the root as a float\n",
    "    return float(root)\n",
    "\n",
    "\n",
    "def secant_method(coeffs, x0, x1, tol=1e-6, maxiter=200):\n",
    "    # Convert the list of coefficients to a numpy polynomial\n",
    "    poly = np.poly1d(coeffs)\n",
    "    # Apply the secant method using scipy's built-in function\n",
    "    root = newton(poly, x0, x1=x1, tol=tol, maxiter=maxiter)\n",
    "    # Return the root as a float\n",
    "    return float(root)"
   ]
  },
  {
   "cell_type": "code",
   "execution_count": 280,
   "metadata": {},
   "outputs": [],
   "source": [
    "from scipy.optimize import bisect, newton\n",
    "\n",
    "tolerance = 1e-4\n",
    "maxiter = 1500\n",
    "\n",
    "\n",
    "def bisection_method(coeffs, a, b, tol=tolerance, maxiter=maxiter):\n",
    "    # Convert the list of coefficients to a numpy polynomial\n",
    "    poly = np.poly1d(coeffs)\n",
    "    # Apply the bisection method using scipy's built-in function\n",
    "    root = bisect(poly, a, b, xtol=tol, maxiter=maxiter)\n",
    "    # Return the root as a float\n",
    "    return float(root)\n",
    "\n",
    "\n",
    "def newton_method(coeffs, x0, tol=tolerance, maxiter=maxiter):\n",
    "    # Convert the list of coefficients to a numpy polynomial\n",
    "    poly = np.poly1d(coeffs)\n",
    "    # Apply the newton method using scipy's built-in function\n",
    "    root = newton(poly, x0, tol=tol, maxiter=maxiter)\n",
    "    # Return the root as a float\n",
    "    return float(root)\n",
    "\n",
    "\n",
    "def secant_method(coeffs, x0, x1, tol=tolerance, maxiter=maxiter):\n",
    "    # Convert the list of coefficients to a numpy polynomial\n",
    "    poly = np.poly1d(coeffs)\n",
    "    # Apply the secant method using scipy's built-in function\n",
    "    root = newton(poly, x0, x1=x1, tol=tol, maxiter=maxiter)\n",
    "    # Return the root as a float\n",
    "    return float(root)"
   ]
  },
  {
   "cell_type": "code",
   "execution_count": null,
   "metadata": {},
   "outputs": [],
   "source": [
    "# # Create a new column called bisection_root by applying the function to the coeffs and bisection_initial columns\n",
    "# df[\"bisection_root\"] = df.apply(lambda row: bisection_method(\n",
    "#     row[\"coeffs\"], row[\"bisection_initial\"][0], row[\"bisection_initial\"][1]), axis=1)\n",
    "\n",
    "# Create a new column called newton_root by applying the function to the coeffs and newton_initial columns\n",
    "df[\"newton_root\"] = df.apply(lambda row: newton_method(\n",
    "    row[\"coeffs\"], row[\"newton_initial\"]), axis=1)\n",
    "\n",
    "# Create a new column called secant_root by applying the function to the coeffs and secant_initial columns\n",
    "df[\"secant_root\"] = df.apply(lambda row: secant_method(\n",
    "    row[\"coeffs\"], row[\"secant_initial\"][0], row[\"secant_initial\"][1]), axis=1)"
   ]
  },
  {
   "cell_type": "code",
   "execution_count": null,
   "metadata": {},
   "outputs": [],
   "source": [
    "# Define a function to evaluate a polynomial at a given root\n",
    "def poly_val(coeffs, root):\n",
    "    # Convert the list of coefficients to a numpy polynomial\n",
    "    poly = np.poly1d(coeffs)\n",
    "    # Evaluate the polynomial at the root\n",
    "    val = poly(root)\n",
    "    # Return the value as a float\n",
    "    return float(val)"
   ]
  },
  {
   "cell_type": "code",
   "execution_count": null,
   "metadata": {},
   "outputs": [],
   "source": [
    "# # Create a new column called poly_val_bisection_root by applying the function to the coeffs and bisection_root columns\n",
    "# df[\"poly_val_bisection_root\"] = df.apply(lambda row: poly_val(row[\"coeffs\"], row[\"bisection_root\"]), axis=1)\n",
    "\n",
    "# Create a new column called poly_val_newton_root by applying the function to the coeffs and newton_root columns\n",
    "df[\"poly_val_newton_root\"] = df.apply(\n",
    "    lambda row: poly_val(row[\"coeffs\"], row[\"newton_root\"]), axis=1)\n",
    "\n",
    "# Create a new column called poly_val_secant_root by applying the function to the coeffs and secant_root columns\n",
    "df[\"poly_val_secant_root\"] = df.apply(\n",
    "    lambda row: poly_val(row[\"coeffs\"], row[\"secant_root\"]), axis=1)"
   ]
  },
  {
   "cell_type": "code",
   "execution_count": null,
   "metadata": {},
   "outputs": [],
   "source": [
    "df.to_csv(file_path, index=False, sep=';')"
   ]
  }
 ],
 "metadata": {
  "kernelspec": {
   "display_name": "Python 3",
   "language": "python",
   "name": "python3"
  },
  "language_info": {
   "codemirror_mode": {
    "name": "ipython",
    "version": 3
   },
   "file_extension": ".py",
   "mimetype": "text/x-python",
   "name": "python",
   "nbconvert_exporter": "python",
   "pygments_lexer": "ipython3",
   "version": "3.11.6"
  }
 },
 "nbformat": 4,
 "nbformat_minor": 2
}
