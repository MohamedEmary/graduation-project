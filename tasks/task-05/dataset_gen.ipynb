{
 "cells": [
  {
   "cell_type": "code",
   "execution_count": 1994,
   "metadata": {},
   "outputs": [],
   "source": [
    "import pandas as pd\n",
    "import numpy as np\n",
    "from scipy.interpolate import lagrange\n",
    "from numpy.polynomial.polynomial import Polynomial\n",
    "import string"
   ]
  },
  {
   "cell_type": "code",
   "execution_count": 1995,
   "metadata": {},
   "outputs": [],
   "source": [
    "# Create a DataFrame\n",
    "df = pd.DataFrame()"
   ]
  },
  {
   "cell_type": "code",
   "execution_count": 1996,
   "metadata": {},
   "outputs": [
    {
     "name": "stdout",
     "output_type": "stream",
     "text": [
      "8289918\n",
      "2105376\n",
      "0.8399690622714339\n",
      "122477038609216\n",
      "odha#@\n"
     ]
    }
   ],
   "source": [
    "def textToIntUTF(text):\n",
    "    # Convert the text to bytes using UTF-8 encoding\n",
    "    byte_representation = text.encode('utf-8')\n",
    "    # Convert the bytes to integer\n",
    "    integer_representation = int.from_bytes(\n",
    "        byte_representation, byteorder='big')\n",
    "    return integer_representation\n",
    "\n",
    "\n",
    "def normalize(num):\n",
    "    min = 35322350018592\n",
    "    max = 139081753198206\n",
    "    return (num - min)/(max-min)\n",
    "\n",
    "\n",
    "def denormalize(num):\n",
    "    min = 35322350018592\n",
    "    max = 139081753198206\n",
    "    return num*(max-min) + min\n",
    "\n",
    "\n",
    "def intToTextUTF(num):\n",
    "    # Convert the integer to bytes using UTF-8 encoding\n",
    "    byte_representation = num.to_bytes(\n",
    "        (num.bit_length() + 7) // 8, byteorder='big')\n",
    "    # Convert the bytes to string using UTF-8 encoding\n",
    "    text = byte_representation.decode('utf-8')\n",
    "    return text\n",
    "\n",
    "\n",
    "print(textToIntUTF('~~~'))  # 139081753198206\n",
    "print(textToIntUTF('   '))  # 35322350018592\n",
    "\n",
    "text = \"odha#@\"\n",
    "print(normalize(textToIntUTF(text)))\n",
    "res = normalize(textToIntUTF(text))\n",
    "print(textToIntUTF(text))\n",
    "\n",
    "res = denormalize(res)\n",
    "\n",
    "print(intToTextUTF(int(res)))\n",
    "\n",
    "# 2\n",
    "# 1.999999\n",
    "# Higher Precision Means more iterations with root finding algorithm"
   ]
  },
  {
   "cell_type": "code",
   "execution_count": 1997,
   "metadata": {},
   "outputs": [],
   "source": [
    "samples = 1000\n",
    "rand_mat_samples = 100\n",
    "start = 0\n",
    "end = 100\n",
    "odd_start = 3\n",
    "odd_end = 14  # python ignores the last number\n",
    "text_size = 4\n",
    "\n",
    "range_extend = 3000\n",
    "max_iter = 25\n",
    "\n",
    "tol = 10**(-2)\n",
    "\n",
    "# max_val = 8289918\n",
    "# min_val = 2105376\n",
    "\n",
    "max_val = 2122219134\n",
    "min_val = 538976288"
   ]
  },
  {
   "cell_type": "code",
   "execution_count": 1998,
   "metadata": {},
   "outputs": [
    {
     "data": {
      "text/html": [
       "<div>\n",
       "<style scoped>\n",
       "    .dataframe tbody tr th:only-of-type {\n",
       "        vertical-align: middle;\n",
       "    }\n",
       "\n",
       "    .dataframe tbody tr th {\n",
       "        vertical-align: top;\n",
       "    }\n",
       "\n",
       "    .dataframe thead th {\n",
       "        text-align: right;\n",
       "    }\n",
       "</style>\n",
       "<table border=\"1\" class=\"dataframe\">\n",
       "  <thead>\n",
       "    <tr style=\"text-align: right;\">\n",
       "      <th></th>\n",
       "      <th>x</th>\n",
       "    </tr>\n",
       "  </thead>\n",
       "  <tbody>\n",
       "    <tr>\n",
       "      <th>0</th>\n",
       "      <td>[12, 32]</td>\n",
       "    </tr>\n",
       "    <tr>\n",
       "      <th>1</th>\n",
       "      <td>[60, 97]</td>\n",
       "    </tr>\n",
       "    <tr>\n",
       "      <th>2</th>\n",
       "      <td>[43, 65]</td>\n",
       "    </tr>\n",
       "    <tr>\n",
       "      <th>3</th>\n",
       "      <td>[38, 81]</td>\n",
       "    </tr>\n",
       "    <tr>\n",
       "      <th>4</th>\n",
       "      <td>[59, 85]</td>\n",
       "    </tr>\n",
       "  </tbody>\n",
       "</table>\n",
       "</div>"
      ],
      "text/plain": [
       "          x\n",
       "0  [12, 32]\n",
       "1  [60, 97]\n",
       "2  [43, 65]\n",
       "3  [38, 81]\n",
       "4  [59, 85]"
      ]
     },
     "execution_count": 1998,
     "metadata": {},
     "output_type": "execute_result"
    }
   ],
   "source": [
    "def x_random_numbers():\n",
    "    x1 = np.random.randint(start, end)\n",
    "    x2 = np.random.randint(start, end)\n",
    "    while x1 == x2:\n",
    "        x2 = np.random.randint(start, end)\n",
    "    return min(x1, x2), max(x1, x2)\n",
    "\n",
    "\n",
    "x = []\n",
    "# Generate random numbers and add them to the DataFrame\n",
    "for i in range(samples):\n",
    "    x1, x2 = x_random_numbers()\n",
    "    x.append([x1, x2])\n",
    "\n",
    "df['x'] = x\n",
    "\n",
    "# Display the first few rows of the DataFrame\n",
    "df.head()"
   ]
  },
  {
   "cell_type": "code",
   "execution_count": 1999,
   "metadata": {},
   "outputs": [],
   "source": [
    "def generate_numbers(df, start=start+1, end=end, samples=samples):\n",
    "    numbers = np.random.randint(start, end, samples)\n",
    "    df['y'] = [[-num, num] for num in numbers]\n",
    "\n",
    "\n",
    "generate_numbers(df)"
   ]
  },
  {
   "cell_type": "code",
   "execution_count": 2000,
   "metadata": {},
   "outputs": [
    {
     "data": {
      "text/html": [
       "<div>\n",
       "<style scoped>\n",
       "    .dataframe tbody tr th:only-of-type {\n",
       "        vertical-align: middle;\n",
       "    }\n",
       "\n",
       "    .dataframe tbody tr th {\n",
       "        vertical-align: top;\n",
       "    }\n",
       "\n",
       "    .dataframe thead th {\n",
       "        text-align: right;\n",
       "    }\n",
       "</style>\n",
       "<table border=\"1\" class=\"dataframe\">\n",
       "  <thead>\n",
       "    <tr style=\"text-align: right;\">\n",
       "      <th></th>\n",
       "      <th>x</th>\n",
       "      <th>y</th>\n",
       "      <th>random_state</th>\n",
       "    </tr>\n",
       "  </thead>\n",
       "  <tbody>\n",
       "    <tr>\n",
       "      <th>0</th>\n",
       "      <td>[12, 32]</td>\n",
       "      <td>[-10, 10]</td>\n",
       "      <td>75</td>\n",
       "    </tr>\n",
       "    <tr>\n",
       "      <th>1</th>\n",
       "      <td>[60, 97]</td>\n",
       "      <td>[-84, 84]</td>\n",
       "      <td>70</td>\n",
       "    </tr>\n",
       "    <tr>\n",
       "      <th>2</th>\n",
       "      <td>[43, 65]</td>\n",
       "      <td>[-85, 85]</td>\n",
       "      <td>69</td>\n",
       "    </tr>\n",
       "    <tr>\n",
       "      <th>3</th>\n",
       "      <td>[38, 81]</td>\n",
       "      <td>[-55, 55]</td>\n",
       "      <td>15</td>\n",
       "    </tr>\n",
       "    <tr>\n",
       "      <th>4</th>\n",
       "      <td>[59, 85]</td>\n",
       "      <td>[-35, 35]</td>\n",
       "      <td>71</td>\n",
       "    </tr>\n",
       "  </tbody>\n",
       "</table>\n",
       "</div>"
      ],
      "text/plain": [
       "          x          y  random_state\n",
       "0  [12, 32]  [-10, 10]            75\n",
       "1  [60, 97]  [-84, 84]            70\n",
       "2  [43, 65]  [-85, 85]            69\n",
       "3  [38, 81]  [-55, 55]            15\n",
       "4  [59, 85]  [-35, 35]            71"
      ]
     },
     "execution_count": 2000,
     "metadata": {},
     "output_type": "execute_result"
    }
   ],
   "source": [
    "def random_state(df, start=start, end=end, samples=None):\n",
    "    samples = len(df) if samples is None else samples\n",
    "    df['random_state'] = np.random.randint(start, end, samples)\n",
    "\n",
    "\n",
    "random_state(df)\n",
    "df.head()"
   ]
  },
  {
   "cell_type": "code",
   "execution_count": 2001,
   "metadata": {},
   "outputs": [],
   "source": [
    "odd_numbers = np.random.choice(range(odd_start, odd_end, 2), samples)\n",
    "df['sections'] = odd_numbers"
   ]
  },
  {
   "cell_type": "code",
   "execution_count": 2002,
   "metadata": {},
   "outputs": [
    {
     "data": {
      "text/html": [
       "<div>\n",
       "<style scoped>\n",
       "    .dataframe tbody tr th:only-of-type {\n",
       "        vertical-align: middle;\n",
       "    }\n",
       "\n",
       "    .dataframe tbody tr th {\n",
       "        vertical-align: top;\n",
       "    }\n",
       "\n",
       "    .dataframe thead th {\n",
       "        text-align: right;\n",
       "    }\n",
       "</style>\n",
       "<table border=\"1\" class=\"dataframe\">\n",
       "  <thead>\n",
       "    <tr style=\"text-align: right;\">\n",
       "      <th></th>\n",
       "      <th>0</th>\n",
       "      <th>1</th>\n",
       "      <th>2</th>\n",
       "      <th>3</th>\n",
       "      <th>4</th>\n",
       "      <th>5</th>\n",
       "      <th>6</th>\n",
       "      <th>7</th>\n",
       "      <th>8</th>\n",
       "      <th>9</th>\n",
       "      <th>10</th>\n",
       "      <th>11</th>\n",
       "      <th>12</th>\n",
       "      <th>13</th>\n",
       "    </tr>\n",
       "  </thead>\n",
       "  <tbody>\n",
       "    <tr>\n",
       "      <th>0</th>\n",
       "      <td>1000094</td>\n",
       "      <td>1000021</td>\n",
       "      <td>1000000</td>\n",
       "      <td>1000022</td>\n",
       "      <td>1000090</td>\n",
       "      <td>1000039</td>\n",
       "      <td>1000002</td>\n",
       "      <td>1000047</td>\n",
       "      <td>1000046</td>\n",
       "      <td>1000083</td>\n",
       "      <td>1000014</td>\n",
       "      <td>1000059</td>\n",
       "      <td>1000096</td>\n",
       "      <td>1000069</td>\n",
       "    </tr>\n",
       "    <tr>\n",
       "      <th>1</th>\n",
       "      <td>1000066</td>\n",
       "      <td>1000090</td>\n",
       "      <td>1000045</td>\n",
       "      <td>1000079</td>\n",
       "      <td>1000077</td>\n",
       "      <td>1000044</td>\n",
       "      <td>1000088</td>\n",
       "      <td>1000045</td>\n",
       "      <td>1000006</td>\n",
       "      <td>1000069</td>\n",
       "      <td>1000059</td>\n",
       "      <td>1000067</td>\n",
       "      <td>1000085</td>\n",
       "      <td>1000010</td>\n",
       "    </tr>\n",
       "    <tr>\n",
       "      <th>2</th>\n",
       "      <td>1000091</td>\n",
       "      <td>1000042</td>\n",
       "      <td>1000021</td>\n",
       "      <td>1000099</td>\n",
       "      <td>1000069</td>\n",
       "      <td>1000078</td>\n",
       "      <td>1000024</td>\n",
       "      <td>1000004</td>\n",
       "      <td>1000080</td>\n",
       "      <td>1000027</td>\n",
       "      <td>1000066</td>\n",
       "      <td>1000041</td>\n",
       "      <td>1000067</td>\n",
       "      <td>1000062</td>\n",
       "    </tr>\n",
       "    <tr>\n",
       "      <th>3</th>\n",
       "      <td>1000051</td>\n",
       "      <td>1000050</td>\n",
       "      <td>1000017</td>\n",
       "      <td>1000055</td>\n",
       "      <td>1000023</td>\n",
       "      <td>1000049</td>\n",
       "      <td>1000066</td>\n",
       "      <td>1000037</td>\n",
       "      <td>1000071</td>\n",
       "      <td>1000005</td>\n",
       "      <td>1000003</td>\n",
       "      <td>1000033</td>\n",
       "      <td>1000057</td>\n",
       "      <td>1000075</td>\n",
       "    </tr>\n",
       "    <tr>\n",
       "      <th>4</th>\n",
       "      <td>1000036</td>\n",
       "      <td>1000074</td>\n",
       "      <td>1000072</td>\n",
       "      <td>1000056</td>\n",
       "      <td>1000098</td>\n",
       "      <td>1000005</td>\n",
       "      <td>1000017</td>\n",
       "      <td>1000083</td>\n",
       "      <td>1000018</td>\n",
       "      <td>1000054</td>\n",
       "      <td>1000081</td>\n",
       "      <td>1000044</td>\n",
       "      <td>1000069</td>\n",
       "      <td>1000024</td>\n",
       "    </tr>\n",
       "  </tbody>\n",
       "</table>\n",
       "</div>"
      ],
      "text/plain": [
       "         0        1        2        3        4        5        6        7  \\\n",
       "0  1000094  1000021  1000000  1000022  1000090  1000039  1000002  1000047   \n",
       "1  1000066  1000090  1000045  1000079  1000077  1000044  1000088  1000045   \n",
       "2  1000091  1000042  1000021  1000099  1000069  1000078  1000024  1000004   \n",
       "3  1000051  1000050  1000017  1000055  1000023  1000049  1000066  1000037   \n",
       "4  1000036  1000074  1000072  1000056  1000098  1000005  1000017  1000083   \n",
       "\n",
       "         8        9       10       11       12       13  \n",
       "0  1000046  1000083  1000014  1000059  1000096  1000069  \n",
       "1  1000006  1000069  1000059  1000067  1000085  1000010  \n",
       "2  1000080  1000027  1000066  1000041  1000067  1000062  \n",
       "3  1000071  1000005  1000003  1000033  1000057  1000075  \n",
       "4  1000018  1000054  1000081  1000044  1000069  1000024  "
      ]
     },
     "execution_count": 2002,
     "metadata": {},
     "output_type": "execute_result"
    }
   ],
   "source": [
    "random_mat = pd.read_csv('random_matrix.csv')\n",
    "random_mat.head()"
   ]
  },
  {
   "cell_type": "code",
   "execution_count": 2003,
   "metadata": {},
   "outputs": [
    {
     "data": {
      "text/html": [
       "<div>\n",
       "<style scoped>\n",
       "    .dataframe tbody tr th:only-of-type {\n",
       "        vertical-align: middle;\n",
       "    }\n",
       "\n",
       "    .dataframe tbody tr th {\n",
       "        vertical-align: top;\n",
       "    }\n",
       "\n",
       "    .dataframe thead th {\n",
       "        text-align: right;\n",
       "    }\n",
       "</style>\n",
       "<table border=\"1\" class=\"dataframe\">\n",
       "  <thead>\n",
       "    <tr style=\"text-align: right;\">\n",
       "      <th></th>\n",
       "      <th>x</th>\n",
       "      <th>y</th>\n",
       "      <th>random_state</th>\n",
       "      <th>sections</th>\n",
       "      <th>random_mat_row</th>\n",
       "    </tr>\n",
       "  </thead>\n",
       "  <tbody>\n",
       "    <tr>\n",
       "      <th>0</th>\n",
       "      <td>[12, 32]</td>\n",
       "      <td>[-10, 10]</td>\n",
       "      <td>75</td>\n",
       "      <td>13</td>\n",
       "      <td>[1000003, 1000016, 1000094, 1000023, 1000070, ...</td>\n",
       "    </tr>\n",
       "    <tr>\n",
       "      <th>1</th>\n",
       "      <td>[60, 97]</td>\n",
       "      <td>[-84, 84]</td>\n",
       "      <td>70</td>\n",
       "      <td>9</td>\n",
       "      <td>[1000005, 1000013, 1000070, 1000032, 1000091, ...</td>\n",
       "    </tr>\n",
       "    <tr>\n",
       "      <th>2</th>\n",
       "      <td>[43, 65]</td>\n",
       "      <td>[-85, 85]</td>\n",
       "      <td>69</td>\n",
       "      <td>9</td>\n",
       "      <td>[1000023, 1000047, 1000078, 1000065, 1000049, ...</td>\n",
       "    </tr>\n",
       "    <tr>\n",
       "      <th>3</th>\n",
       "      <td>[38, 81]</td>\n",
       "      <td>[-55, 55]</td>\n",
       "      <td>15</td>\n",
       "      <td>5</td>\n",
       "      <td>[1000000, 1000055, 1000016, 1000017, 1000018, ...</td>\n",
       "    </tr>\n",
       "    <tr>\n",
       "      <th>4</th>\n",
       "      <td>[59, 85]</td>\n",
       "      <td>[-35, 35]</td>\n",
       "      <td>71</td>\n",
       "      <td>3</td>\n",
       "      <td>[1000096, 1000021, 1000036, 1000062, 1000065, ...</td>\n",
       "    </tr>\n",
       "    <tr>\n",
       "      <th>...</th>\n",
       "      <td>...</td>\n",
       "      <td>...</td>\n",
       "      <td>...</td>\n",
       "      <td>...</td>\n",
       "      <td>...</td>\n",
       "    </tr>\n",
       "    <tr>\n",
       "      <th>995</th>\n",
       "      <td>[63, 84]</td>\n",
       "      <td>[-34, 34]</td>\n",
       "      <td>38</td>\n",
       "      <td>11</td>\n",
       "      <td>[1000079, 1000008, 1000052, 1000049, 1000042, ...</td>\n",
       "    </tr>\n",
       "    <tr>\n",
       "      <th>996</th>\n",
       "      <td>[84, 89]</td>\n",
       "      <td>[-44, 44]</td>\n",
       "      <td>16</td>\n",
       "      <td>5</td>\n",
       "      <td>[1000032, 1000086, 1000086, 1000075, 1000007, ...</td>\n",
       "    </tr>\n",
       "    <tr>\n",
       "      <th>997</th>\n",
       "      <td>[28, 52]</td>\n",
       "      <td>[-58, 58]</td>\n",
       "      <td>77</td>\n",
       "      <td>13</td>\n",
       "      <td>[1000079, 1000042, 1000097, 1000007, 1000053, ...</td>\n",
       "    </tr>\n",
       "    <tr>\n",
       "      <th>998</th>\n",
       "      <td>[2, 35]</td>\n",
       "      <td>[-18, 18]</td>\n",
       "      <td>31</td>\n",
       "      <td>11</td>\n",
       "      <td>[1000072, 1000019, 1000069, 1000055, 1000002, ...</td>\n",
       "    </tr>\n",
       "    <tr>\n",
       "      <th>999</th>\n",
       "      <td>[29, 81]</td>\n",
       "      <td>[-42, 42]</td>\n",
       "      <td>82</td>\n",
       "      <td>5</td>\n",
       "      <td>[1000005, 1000036, 1000050, 1000073, 1000087, ...</td>\n",
       "    </tr>\n",
       "  </tbody>\n",
       "</table>\n",
       "<p>1000 rows × 5 columns</p>\n",
       "</div>"
      ],
      "text/plain": [
       "            x          y  random_state  sections  \\\n",
       "0    [12, 32]  [-10, 10]            75        13   \n",
       "1    [60, 97]  [-84, 84]            70         9   \n",
       "2    [43, 65]  [-85, 85]            69         9   \n",
       "3    [38, 81]  [-55, 55]            15         5   \n",
       "4    [59, 85]  [-35, 35]            71         3   \n",
       "..        ...        ...           ...       ...   \n",
       "995  [63, 84]  [-34, 34]            38        11   \n",
       "996  [84, 89]  [-44, 44]            16         5   \n",
       "997  [28, 52]  [-58, 58]            77        13   \n",
       "998   [2, 35]  [-18, 18]            31        11   \n",
       "999  [29, 81]  [-42, 42]            82         5   \n",
       "\n",
       "                                        random_mat_row  \n",
       "0    [1000003, 1000016, 1000094, 1000023, 1000070, ...  \n",
       "1    [1000005, 1000013, 1000070, 1000032, 1000091, ...  \n",
       "2    [1000023, 1000047, 1000078, 1000065, 1000049, ...  \n",
       "3    [1000000, 1000055, 1000016, 1000017, 1000018, ...  \n",
       "4    [1000096, 1000021, 1000036, 1000062, 1000065, ...  \n",
       "..                                                 ...  \n",
       "995  [1000079, 1000008, 1000052, 1000049, 1000042, ...  \n",
       "996  [1000032, 1000086, 1000086, 1000075, 1000007, ...  \n",
       "997  [1000079, 1000042, 1000097, 1000007, 1000053, ...  \n",
       "998  [1000072, 1000019, 1000069, 1000055, 1000002, ...  \n",
       "999  [1000005, 1000036, 1000050, 1000073, 1000087, ...  \n",
       "\n",
       "[1000 rows x 5 columns]"
      ]
     },
     "execution_count": 2003,
     "metadata": {},
     "output_type": "execute_result"
    }
   ],
   "source": [
    "def add_random_mat(df, random_mat):\n",
    "    def get_random_mat_row(row):\n",
    "        index = row['random_state'] % (rand_mat_samples)\n",
    "        return random_mat.iloc[index].values\n",
    "\n",
    "    df['random_mat_row'] = df.apply(get_random_mat_row, axis=1)\n",
    "    return df\n",
    "\n",
    "\n",
    "add_random_mat(df, random_mat)"
   ]
  },
  {
   "cell_type": "code",
   "execution_count": 2004,
   "metadata": {},
   "outputs": [
    {
     "data": {
      "text/html": [
       "<div>\n",
       "<style scoped>\n",
       "    .dataframe tbody tr th:only-of-type {\n",
       "        vertical-align: middle;\n",
       "    }\n",
       "\n",
       "    .dataframe tbody tr th {\n",
       "        vertical-align: top;\n",
       "    }\n",
       "\n",
       "    .dataframe thead th {\n",
       "        text-align: right;\n",
       "    }\n",
       "</style>\n",
       "<table border=\"1\" class=\"dataframe\">\n",
       "  <thead>\n",
       "    <tr style=\"text-align: right;\">\n",
       "      <th></th>\n",
       "      <th>x</th>\n",
       "      <th>y</th>\n",
       "      <th>random_state</th>\n",
       "      <th>sections</th>\n",
       "      <th>random_mat_row</th>\n",
       "      <th>x_points</th>\n",
       "      <th>y_points</th>\n",
       "    </tr>\n",
       "  </thead>\n",
       "  <tbody>\n",
       "    <tr>\n",
       "      <th>0</th>\n",
       "      <td>[12, 32]</td>\n",
       "      <td>[-10, 10]</td>\n",
       "      <td>75</td>\n",
       "      <td>13</td>\n",
       "      <td>[1000003, 1000016, 1000094, 1000023, 1000070, ...</td>\n",
       "      <td>[12.0, 13.538461538461538, 15.076923076923077,...</td>\n",
       "      <td>[-10.0, -8.461538461538462, -6.923076923076923...</td>\n",
       "    </tr>\n",
       "    <tr>\n",
       "      <th>1</th>\n",
       "      <td>[60, 97]</td>\n",
       "      <td>[-84, 84]</td>\n",
       "      <td>70</td>\n",
       "      <td>9</td>\n",
       "      <td>[1000005, 1000013, 1000070, 1000032, 1000091, ...</td>\n",
       "      <td>[60.0, 64.11111111111111, 68.22222222222223, 7...</td>\n",
       "      <td>[-84.0, -65.33333333333333, -46.66666666666666...</td>\n",
       "    </tr>\n",
       "    <tr>\n",
       "      <th>2</th>\n",
       "      <td>[43, 65]</td>\n",
       "      <td>[-85, 85]</td>\n",
       "      <td>69</td>\n",
       "      <td>9</td>\n",
       "      <td>[1000023, 1000047, 1000078, 1000065, 1000049, ...</td>\n",
       "      <td>[43.0, 45.44444444444444, 47.888888888888886, ...</td>\n",
       "      <td>[-85.0, -66.11111111111111, -47.22222222222222...</td>\n",
       "    </tr>\n",
       "    <tr>\n",
       "      <th>3</th>\n",
       "      <td>[38, 81]</td>\n",
       "      <td>[-55, 55]</td>\n",
       "      <td>15</td>\n",
       "      <td>5</td>\n",
       "      <td>[1000000, 1000055, 1000016, 1000017, 1000018, ...</td>\n",
       "      <td>[38.0, 46.6, 55.2, 63.8, 72.4, 81.0]</td>\n",
       "      <td>[-55.0, -33.0, -11.0, 11.0, 33.0, 55.0]</td>\n",
       "    </tr>\n",
       "    <tr>\n",
       "      <th>4</th>\n",
       "      <td>[59, 85]</td>\n",
       "      <td>[-35, 35]</td>\n",
       "      <td>71</td>\n",
       "      <td>3</td>\n",
       "      <td>[1000096, 1000021, 1000036, 1000062, 1000065, ...</td>\n",
       "      <td>[59.0, 67.66666666666667, 76.33333333333333, 8...</td>\n",
       "      <td>[-35.0, -11.666666666666668, 11.66666666666666...</td>\n",
       "    </tr>\n",
       "  </tbody>\n",
       "</table>\n",
       "</div>"
      ],
      "text/plain": [
       "          x          y  random_state  sections  \\\n",
       "0  [12, 32]  [-10, 10]            75        13   \n",
       "1  [60, 97]  [-84, 84]            70         9   \n",
       "2  [43, 65]  [-85, 85]            69         9   \n",
       "3  [38, 81]  [-55, 55]            15         5   \n",
       "4  [59, 85]  [-35, 35]            71         3   \n",
       "\n",
       "                                      random_mat_row  \\\n",
       "0  [1000003, 1000016, 1000094, 1000023, 1000070, ...   \n",
       "1  [1000005, 1000013, 1000070, 1000032, 1000091, ...   \n",
       "2  [1000023, 1000047, 1000078, 1000065, 1000049, ...   \n",
       "3  [1000000, 1000055, 1000016, 1000017, 1000018, ...   \n",
       "4  [1000096, 1000021, 1000036, 1000062, 1000065, ...   \n",
       "\n",
       "                                            x_points  \\\n",
       "0  [12.0, 13.538461538461538, 15.076923076923077,...   \n",
       "1  [60.0, 64.11111111111111, 68.22222222222223, 7...   \n",
       "2  [43.0, 45.44444444444444, 47.888888888888886, ...   \n",
       "3               [38.0, 46.6, 55.2, 63.8, 72.4, 81.0]   \n",
       "4  [59.0, 67.66666666666667, 76.33333333333333, 8...   \n",
       "\n",
       "                                            y_points  \n",
       "0  [-10.0, -8.461538461538462, -6.923076923076923...  \n",
       "1  [-84.0, -65.33333333333333, -46.66666666666666...  \n",
       "2  [-85.0, -66.11111111111111, -47.22222222222222...  \n",
       "3            [-55.0, -33.0, -11.0, 11.0, 33.0, 55.0]  \n",
       "4  [-35.0, -11.666666666666668, 11.66666666666666...  "
      ]
     },
     "execution_count": 2004,
     "metadata": {},
     "output_type": "execute_result"
    }
   ],
   "source": [
    "# Function to generate evenly spaced numbers\n",
    "def generate_points_y(row):\n",
    "    return list(np.linspace(row['y'][0], row['y'][1], row['sections']+1))\n",
    "\n",
    "\n",
    "def generate_points_x(row):\n",
    "    return list(np.linspace(row['x'][0], row['x'][1], row['sections']+1))\n",
    "\n",
    "\n",
    "# Apply the function to each row\n",
    "df['x_points'] = df.apply(generate_points_x, axis=1)\n",
    "df['y_points'] = df.apply(generate_points_y, axis=1)\n",
    "\n",
    "df.head()"
   ]
  },
  {
   "cell_type": "code",
   "execution_count": 2005,
   "metadata": {},
   "outputs": [],
   "source": [
    "df['rand_vals'] = df.apply(\n",
    "    lambda row: row['random_mat_row'][:row['sections']+1], axis=1)"
   ]
  },
  {
   "cell_type": "code",
   "execution_count": 2006,
   "metadata": {},
   "outputs": [],
   "source": [
    "df['points'] = df.apply(lambda row: list(\n",
    "    zip(row['x_points'], row['y_points'])), axis=1)"
   ]
  },
  {
   "cell_type": "code",
   "execution_count": 2007,
   "metadata": {},
   "outputs": [],
   "source": [
    "def update_points(row):\n",
    "    new_points = []\n",
    "    for i, (x, y) in enumerate(row['points']):\n",
    "        if i % 2 == 0:  # subtract for even index\n",
    "            new_y = y - row['rand_vals'][i]\n",
    "        else:  # add for odd index\n",
    "            new_y = y + row['rand_vals'][i]\n",
    "        new_points.append((x, new_y))\n",
    "    return new_points\n",
    "\n",
    "\n",
    "df['poly_points'] = df.apply(update_points, axis=1)"
   ]
  },
  {
   "cell_type": "code",
   "execution_count": 2008,
   "metadata": {},
   "outputs": [],
   "source": [
    "def interpolate_points(row):\n",
    "    x, y = zip(*row['poly_points'])\n",
    "    poly = lagrange(x, y)\n",
    "    return Polynomial(poly).coef.tolist()\n",
    "\n",
    "\n",
    "df['polynomial'] = df.apply(interpolate_points, axis=1)"
   ]
  },
  {
   "cell_type": "code",
   "execution_count": 2009,
   "metadata": {},
   "outputs": [],
   "source": [
    "def generate_random_text(length):\n",
    "    chars = np.array(list(string.ascii_letters + string.digits))\n",
    "    text = ''.join(np.random.choice(chars) for _ in range(length))\n",
    "    return text\n",
    "\n",
    "\n",
    "df['rand_text'] = df.apply(lambda _: generate_random_text(text_size), axis=1)"
   ]
  },
  {
   "cell_type": "code",
   "execution_count": 2010,
   "metadata": {},
   "outputs": [],
   "source": [
    "# Function to convert text to its UTF-8 integer representation\n",
    "def text_to_int(text):\n",
    "    return int.from_bytes(text.encode('utf-8'), 'big')\n",
    "\n",
    "\n",
    "# Apply the function to the 'rand_text' column and create a new column 'text_int'\n",
    "df['text_int'] = df['rand_text'].apply(text_to_int)"
   ]
  },
  {
   "cell_type": "code",
   "execution_count": 2011,
   "metadata": {},
   "outputs": [],
   "source": [
    "# Normalize the 'text_int' column\n",
    "df['text_normalized'] = (df['text_int'] - min_val) / (max_val - min_val)"
   ]
  },
  {
   "cell_type": "code",
   "execution_count": 2012,
   "metadata": {},
   "outputs": [],
   "source": [
    "def subtract_normalized(row):\n",
    "    polynomial = list(row['polynomial'])\n",
    "    normalized_value = float(row['text_normalized'])\n",
    "    polynomial[-1] -= normalized_value\n",
    "    return polynomial\n",
    "\n",
    "\n",
    "df['polynomial_text_normalized'] = df.apply(subtract_normalized, axis=1)"
   ]
  },
  {
   "cell_type": "code",
   "execution_count": 2013,
   "metadata": {},
   "outputs": [],
   "source": [
    "def subtract_normalized(row):\n",
    "    polynomial = list(row['polynomial'])\n",
    "    text_int_value = float(row['text_int'])\n",
    "    polynomial[-1] -= text_int_value\n",
    "    return polynomial\n",
    "\n",
    "\n",
    "df['polynomial_text_int'] = df.apply(subtract_normalized, axis=1)"
   ]
  },
  {
   "cell_type": "code",
   "execution_count": 2014,
   "metadata": {},
   "outputs": [],
   "source": [
    "# # Define a function to subtract the normalized value from the constant term in the polynomial\n",
    "# def subtract_normalized(row):\n",
    "#     polynomial = row['polynomial'].copy()\n",
    "#     normalized_value = row['text_int_normalized']\n",
    "#     polynomial[-1] -= normalized_value\n",
    "#     return polynomial\n",
    "\n",
    "\n",
    "# # Apply the function to each row and store the results in a new column\n",
    "# df['polynomial_text'] = df.apply(subtract_normalized, axis=1)"
   ]
  },
  {
   "cell_type": "code",
   "execution_count": 2015,
   "metadata": {},
   "outputs": [],
   "source": [
    "# Subtract the last value of 'polynomial' from the last value of 'polynomial_text' and store the result in 'poly_text_representation'\n",
    "df['poly_normalized_text_representation'] = df['polynomial'].apply(\n",
    "    lambda x: x[-1]) - df['polynomial_text_normalized'].apply(lambda x: x[-1])"
   ]
  },
  {
   "cell_type": "code",
   "execution_count": 2016,
   "metadata": {},
   "outputs": [],
   "source": [
    "# Subtract the last value of 'polynomial' from the last value of 'polynomial_text' and store the result in 'poly_text_representation'\n",
    "df['poly_int_text_representation'] = df['polynomial'].apply(\n",
    "    lambda x: x[-1]) - df['polynomial_text_int'].apply(lambda x: x[-1])"
   ]
  },
  {
   "cell_type": "code",
   "execution_count": 2017,
   "metadata": {},
   "outputs": [],
   "source": [
    "# df[['polynomial', 'polynomial_text']].to_csv('polynomial.csv', index=False)"
   ]
  },
  {
   "cell_type": "code",
   "execution_count": 2018,
   "metadata": {},
   "outputs": [],
   "source": [
    "# save the first value in the array polynomial in polynomial column in a separate column\n",
    "df['first_polynomial_coeff'] = df['polynomial'].copy().apply(lambda x: x[0])"
   ]
  },
  {
   "cell_type": "code",
   "execution_count": 2019,
   "metadata": {},
   "outputs": [
    {
     "name": "stdout",
     "output_type": "stream",
     "text": [
      "520\n"
     ]
    }
   ],
   "source": [
    "# Get a Boolean Series where each element is True if the\n",
    "# corresponding value in the 'first_polynomial_value' column\n",
    "# is greater than 1\n",
    "greater_than_zero = df['first_polynomial_coeff'].gt(1)\n",
    "\n",
    "# Count the number of True values in the Series\n",
    "count = greater_than_zero.sum()\n",
    "\n",
    "print(count)"
   ]
  },
  {
   "cell_type": "code",
   "execution_count": 2020,
   "metadata": {},
   "outputs": [],
   "source": [
    "df = df.loc[df['first_polynomial_coeff'] > 1]\n",
    "df = df.loc[df['poly_int_text_representation'] != 0.0]"
   ]
  },
  {
   "cell_type": "code",
   "execution_count": 2021,
   "metadata": {},
   "outputs": [],
   "source": [
    "# import pandas as pd\n",
    "# df = pd.read_csv(\"data.csv\")"
   ]
  },
  {
   "cell_type": "code",
   "execution_count": 2022,
   "metadata": {},
   "outputs": [],
   "source": [
    "# f is a polynomial with the coeffs in polynomial_text_int\n",
    "# a is the first value in x interval\n",
    "# b is the first value in x interval+300\n",
    "\n",
    "\n",
    "def blendBF(f, a, b, tol=tol, max_iter=25):\n",
    "    # print(f)\n",
    "    # Initialize the variables\n",
    "    n = 0\n",
    "    a1 = a\n",
    "    a2 = a\n",
    "    b1 = b\n",
    "    b2 = b\n",
    "    # print(f\"working on {a} to {b} and {f}\")\n",
    "    while True:\n",
    "        # print(n)\n",
    "        # Increment the iteration counter\n",
    "        n += 1\n",
    "\n",
    "        # Check if the number of iterations exceeds the maximum number of iterations\n",
    "        if n > max_iter:\n",
    "            return 'iter'\n",
    "        # Evaluate the function at the endpoints\n",
    "        fa = f(a)\n",
    "        fb = f(b)\n",
    "\n",
    "        # Compute the midpoint and the false position point\n",
    "        xB = (a + b) / 2\n",
    "        fxB = f(xB)\n",
    "\n",
    "        if fb == fa:\n",
    "            return 'div'\n",
    "        else:\n",
    "            xF = a - (fa * (b - a)) / (fb - fa)\n",
    "            xF = a - (fa * (b - a)) / (fb - fa)\n",
    "            fxF = f(xF)\n",
    "\n",
    "        # Choose the one with the smaller absolute value as the root approximation\n",
    "        if abs(fxB) < abs(fxF):\n",
    "            x = xB\n",
    "            fx = fxB\n",
    "        else:\n",
    "            x = xF\n",
    "            fx = fxF\n",
    "\n",
    "        # Check if the absolute value of fx is less than or equal to the tolerance\n",
    "        if abs(fx) <= tol:\n",
    "            # Return the output\n",
    "            # n is the number of iterations\n",
    "            # x is the root approximation\n",
    "            # fx is the function value\n",
    "            # a is the left endpoint\n",
    "            # b is the right endpoint\n",
    "            return x\n",
    "\n",
    "        # Update the interval by applying the bisection and false position methods\n",
    "        if fa * fxB < 0:\n",
    "            b1 = xB\n",
    "        else:\n",
    "            a1 = xB\n",
    "\n",
    "        if fa * fxF < 0:\n",
    "            b2 = xF\n",
    "        else:\n",
    "            a2 = xF\n",
    "\n",
    "        # Set a to the maximum of a1 and a2 and b to the minimum of b1 and b2\n",
    "        a = max(a1, a2)\n",
    "        b = min(b1, b2)"
   ]
  },
  {
   "cell_type": "code",
   "execution_count": 2023,
   "metadata": {},
   "outputs": [],
   "source": [
    "# # Define the bisection function\n",
    "# def bisection(f, a, b, tol=tol, max_iter=max_iter):\n",
    "#     # Check if a and b bracket a root\n",
    "#     if f(a) * f(b) > 0:\n",
    "#         return 'No root found in the interval', 'No root found in the interval'\n",
    "#     # Initialize x as the midpoint of a and b\n",
    "#     x = (a + b) / 2\n",
    "#     # Initialize an iteration counter\n",
    "#     i = 1\n",
    "#     n = 0\n",
    "#     # Repeat until the interval is smaller than the tolerance\n",
    "#     while abs(b - a) > tol:\n",
    "#         n += 1\n",
    "#         if n > max_iter:\n",
    "#             return 'iter'\n",
    "#         # If x is a root, return it\n",
    "#         if f(x) == 0:\n",
    "#             return x, f(x), i, a, b\n",
    "#         # If f(a) and f(x) have opposite signs, set b = x\n",
    "#         elif f(a) * f(x) < 0:\n",
    "#             b = x\n",
    "#         # If f(b) and f(x) have opposite signs, set a = x\n",
    "#         else:\n",
    "#             a = x\n",
    "#         # Update x as the new midpoint of a and b\n",
    "#         x = (a + b) / 2\n",
    "#         i += 1\n",
    "#     return x"
   ]
  },
  {
   "cell_type": "code",
   "execution_count": 2024,
   "metadata": {},
   "outputs": [],
   "source": [
    "# def falsePosition(f, x0, x1, tol=tol, max_iter=max_iter):\n",
    "#     condition = True\n",
    "#     n = 0\n",
    "#     while condition:\n",
    "#         n += 1\n",
    "#         if n > max_iter:\n",
    "#             return 'iter'\n",
    "#         x2 = x0 - (x1-x0) * f(x0)/(f(x1) - f(x0))\n",
    "#         if f(x0) * f(x2) < 0:\n",
    "#             x1 = x2\n",
    "#         else:\n",
    "#             x0 = x2\n",
    "#         condition = abs(f(x2)) > tol\n",
    "\n",
    "#     return x2"
   ]
  },
  {
   "cell_type": "code",
   "execution_count": 2025,
   "metadata": {},
   "outputs": [],
   "source": [
    "# Define the polynomial function\n",
    "def polynomial(x, coeffs):\n",
    "    return sum([coeff*(x**i) for i, coeff in enumerate(coeffs[::-1])])"
   ]
  },
  {
   "cell_type": "code",
   "execution_count": 2026,
   "metadata": {},
   "outputs": [],
   "source": [
    "import time\n",
    "\n",
    "\n",
    "def timed_blendBF(func, start, end):\n",
    "    start_time = time.time()\n",
    "    result = blendBF(func, start, end)\n",
    "    end_time = time.time()\n",
    "    return result, end_time - start_time"
   ]
  },
  {
   "cell_type": "code",
   "execution_count": 2027,
   "metadata": {},
   "outputs": [],
   "source": [
    "df['root_hybrid'], df['hybrid_encode_time'] = zip(*df.apply(lambda row: timed_blendBF(lambda x: polynomial(x, row['polynomial_text_int']),\n",
    "                                                                                      row['x'][0] -\n",
    "                                                                                      range_extend,\n",
    "                                                                                      row['x'][0]+range_extend), axis=1))"
   ]
  },
  {
   "cell_type": "code",
   "execution_count": 2028,
   "metadata": {},
   "outputs": [],
   "source": [
    "# # Apply the blendBF function\n",
    "# df['root_hybrid'] = df.apply(lambda row: blendBF(lambda x: polynomial(x, row['polynomial_text_int']),\n",
    "#                                                  row['x'][0]-range_extend,\n",
    "#                                                  row['x'][0]+range_extend), axis=1)"
   ]
  },
  {
   "cell_type": "code",
   "execution_count": 2029,
   "metadata": {},
   "outputs": [],
   "source": [
    "# # Apply the bisection function\n",
    "# df['root_bisection'] = df.apply(lambda row: bisection(lambda x: polynomial(x, row['polynomial_text_int']),\n",
    "#   row['x'][0]-range_extend,\n",
    "#   row['x'][0]+range_extend), axis=1)\n",
    "\n",
    "\n",
    "# # Apply the false position function\n",
    "# df['root_falsePosition'] = df.apply(lambda row: falsePosition(lambda x: polynomial(x, row['polynomial_text_int']),\n",
    "#                                                               row['x'][0] -\n",
    "#                                                               range_extend,\n",
    "#                                                               row['x'][0]+range_extend), axis=1)"
   ]
  },
  {
   "cell_type": "code",
   "execution_count": 2030,
   "metadata": {},
   "outputs": [
    {
     "name": "stdout",
     "output_type": "stream",
     "text": [
      "\n",
      "rows = 487\n",
      "iter = 147\n",
      "div = 0\n",
      "rows - (iter + div) = 340\n",
      "\n"
     ]
    }
   ],
   "source": [
    "length = len(df)\n",
    "iter_rows = len(df[df['root_hybrid'] == 'iter'])\n",
    "div_rows = len(df[df['root_hybrid'] == 'div'])\n",
    "print(\n",
    "    f\"\"\"\n",
    "rows = {length}\n",
    "iter = {iter_rows}\n",
    "div = {div_rows}\n",
    "rows - (iter + div) = {length - (iter_rows + div_rows)}\n",
    "\"\"\")"
   ]
  },
  {
   "cell_type": "code",
   "execution_count": 2031,
   "metadata": {},
   "outputs": [],
   "source": [
    "df = df.loc[df['root_hybrid'] != 'iter']"
   ]
  },
  {
   "cell_type": "code",
   "execution_count": 2032,
   "metadata": {},
   "outputs": [],
   "source": [
    "df['text_from_root_hybrid'] = df.apply(lambda row: polynomial(\n",
    "    row['root_hybrid'], row['polynomial']), axis=1)"
   ]
  },
  {
   "cell_type": "code",
   "execution_count": 2033,
   "metadata": {},
   "outputs": [],
   "source": [
    "# df['text_from_root_bisection'] = df.apply(lambda row: polynomial(\n",
    "#     row['root_bisection'], row['polynomial']), axis=1)\n",
    "\n",
    "\n",
    "# df['text_from_root_FP'] = df.apply(lambda row: polynomial(\n",
    "#     row['root_falsePosition'], row['polynomial']), axis=1)"
   ]
  },
  {
   "cell_type": "code",
   "execution_count": 2034,
   "metadata": {},
   "outputs": [],
   "source": [
    "# text_from_root is the text representation from the root of\n",
    "# hybrid algo\n",
    "df['rounded_root_hybrid'] = df['text_from_root_hybrid'].round()"
   ]
  },
  {
   "cell_type": "code",
   "execution_count": 2035,
   "metadata": {},
   "outputs": [],
   "source": [
    "# df['rounded_root_bisection'] = df['text_from_root_bisection'].round()\n",
    "# df['rounded_root_FP'] = df['text_from_root_FP'].round()"
   ]
  },
  {
   "cell_type": "code",
   "execution_count": 2036,
   "metadata": {},
   "outputs": [],
   "source": [
    "def intToTextUTF(num):\n",
    "    start_time = time.time()\n",
    "    try:\n",
    "        # Convert the integer to bytes using UTF-8 encoding\n",
    "        byte_representation = num.to_bytes(\n",
    "            (num.bit_length() + 7) // 8, byteorder='big')\n",
    "        # Convert the bytes to string using UTF-8 encoding\n",
    "        text = byte_representation.decode('utf-8')\n",
    "        end_time = time.time()\n",
    "        return text, end_time - start_time\n",
    "    except Exception:\n",
    "        end_time = time.time()\n",
    "        return \"conv\", end_time - start_time"
   ]
  },
  {
   "cell_type": "code",
   "execution_count": 2037,
   "metadata": {},
   "outputs": [],
   "source": [
    "# df = df[df['hybrid_decode'] == df['rand_text']]"
   ]
  },
  {
   "cell_type": "code",
   "execution_count": 2038,
   "metadata": {},
   "outputs": [],
   "source": [
    "df['hybrid_decode'], df['hybrid_decode_time'] = zip(\n",
    "    *df['rounded_root_hybrid'].astype(int).apply(intToTextUTF))"
   ]
  },
  {
   "cell_type": "code",
   "execution_count": 2039,
   "metadata": {},
   "outputs": [],
   "source": [
    "df['total_time_hybrid'] = df['hybrid_decode_time'] + df['hybrid_encode_time']"
   ]
  },
  {
   "cell_type": "code",
   "execution_count": 2040,
   "metadata": {},
   "outputs": [],
   "source": [
    "df = df.loc[df['hybrid_decode'] == df['rand_text']]"
   ]
  },
  {
   "cell_type": "code",
   "execution_count": 2041,
   "metadata": {},
   "outputs": [],
   "source": [
    "# df['bisection_decode'] = df['rounded_root_bisection'].astype(\n",
    "#     int).apply(intToTextUTF)"
   ]
  },
  {
   "cell_type": "code",
   "execution_count": 2042,
   "metadata": {},
   "outputs": [],
   "source": [
    "# df['FP_decode'] = df['rounded_root_FP'].astype(int).apply(intToTextUTF)"
   ]
  },
  {
   "cell_type": "code",
   "execution_count": 2043,
   "metadata": {},
   "outputs": [],
   "source": [
    "df_filtered = df[['rand_text', 'text_int', 'hybrid_decode',\n",
    "                  'hybrid_decode_time', 'hybrid_encode_time',\n",
    "                  'total_time_hybrid']]"
   ]
  },
  {
   "cell_type": "code",
   "execution_count": 2044,
   "metadata": {},
   "outputs": [],
   "source": [
    "df.to_csv('data.csv', index=False)"
   ]
  },
  {
   "cell_type": "code",
   "execution_count": 2045,
   "metadata": {},
   "outputs": [],
   "source": [
    "df_filtered.to_csv('filtered_dataset.csv', index=False)"
   ]
  }
 ],
 "metadata": {
  "kernelspec": {
   "display_name": "Python 3",
   "language": "python",
   "name": "python3"
  },
  "language_info": {
   "codemirror_mode": {
    "name": "ipython",
    "version": 3
   },
   "file_extension": ".py",
   "mimetype": "text/x-python",
   "name": "python",
   "nbconvert_exporter": "python",
   "pygments_lexer": "ipython3",
   "version": "3.11.6"
  }
 },
 "nbformat": 4,
 "nbformat_minor": 2
}
